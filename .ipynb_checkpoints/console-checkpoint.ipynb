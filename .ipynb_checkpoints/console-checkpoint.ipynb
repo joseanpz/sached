{
 "cells": [
  {
   "cell_type": "code",
   "execution_count": 6,
   "metadata": {
    "collapsed": true,
    "jupyter": {
     "outputs_hidden": true
    }
   },
   "outputs": [
    {
     "name": "stdout",
     "output_type": "stream",
     "text": [
      "Welcome to Ubuntu 18.04.4 LTS (GNU/Linux 4.15.0-66-generic x86_64)\n",
      "\n",
      " * Documentation:  https://help.ubuntu.com\n",
      " * Management:     https://landscape.canonical.com\n",
      " * Support:        https://ubuntu.com/advantage\n",
      "\n",
      "  System information as of Mon Jul 13 01:26:54 UTC 2020\n",
      "\n",
      "  System load:                    0.0\n",
      "  Usage of /:                     15.8% of 24.06GB\n",
      "  Memory usage:                   45%\n",
      "  Swap usage:                     0%\n",
      "  Processes:                      108\n",
      "  Users logged in:                1\n",
      "  IP address for eth0:            178.128.155.152\n",
      "  IP address for docker0:         172.17.0.1\n",
      "  IP address for br-5126d1cf6b9e: 172.18.0.1\n",
      "\n",
      " * Canonical Livepatch is available for installation.\n",
      "   - Reduce system reboots and improve kernel security. Activate at:\n",
      "     https://ubuntu.com/livepatch\n",
      "\n",
      "60 packages can be updated.\n",
      "0 updates are security updates.\n",
      "\n",
      "Failed to connect to https://changelogs.ubuntu.com/meta-release-lts. Check your Internet connection or proxy settings\n",
      "\n",
      "\n",
      "*** System restart required ***\n",
      "Last login: Mon Jul 13 01:25:59 2020 from 34.203.37.48\n",
      "\u001b]0;josea@datadash: ~\u0007\u001b[01;32mjosea@datadash\u001b[00m:\u001b[01;34m~\u001b[00m$ ^C\n",
      "\n",
      "\u001b]0;josea@datadash: ~\u0007\u001b[01;32mjosea@datadash\u001b[00m:\u001b[01;34m~\u001b[00m$ "
     ]
    }
   ],
   "source": [
    "!ssh -F ~/SageMaker/ssh/config -L 6379:178.128.13.129:6379 datadash"
   ]
  },
  {
   "cell_type": "code",
   "execution_count": null,
   "metadata": {},
   "outputs": [],
   "source": [
    "!ssh -i ~/SageMaker/ssh/id_rsa -L 6379:178.128.13.129:6379 josea@datadash.com.mx"
   ]
  },
  {
   "cell_type": "code",
   "execution_count": null,
   "metadata": {},
   "outputs": [],
   "source": []
  },
  {
   "cell_type": "code",
   "execution_count": null,
   "metadata": {},
   "outputs": [],
   "source": [
    "!pip install -r requirements.txt"
   ]
  },
  {
   "cell_type": "code",
   "execution_count": 1,
   "metadata": {},
   "outputs": [],
   "source": [
    "from datetime import datetime\n",
    "\n",
    "from jobs.loads import load_events_io, meses, dias, horas"
   ]
  },
  {
   "cell_type": "code",
   "execution_count": 2,
   "metadata": {},
   "outputs": [
    {
     "data": {
      "text/plain": [
       "datetime.datetime(2020, 7, 13, 1, 2, 21, 760251)"
      ]
     },
     "execution_count": 2,
     "metadata": {},
     "output_type": "execute_result"
    }
   ],
   "source": [
    "now = datetime.now()\n",
    "now"
   ]
  },
  {
   "cell_type": "code",
   "execution_count": 40,
   "metadata": {},
   "outputs": [],
   "source": []
  },
  {
   "cell_type": "code",
   "execution_count": 3,
   "metadata": {},
   "outputs": [],
   "source": [
    "dia_inicial = now.day\n",
    "hora_inicial = now.hour"
   ]
  },
  {
   "cell_type": "code",
   "execution_count": 4,
   "metadata": {},
   "outputs": [],
   "source": [
    "events = load_events_io(str(now.year), meses[now.month], 12, 23, 1, 1)"
   ]
  },
  {
   "cell_type": "code",
   "execution_count": 4,
   "metadata": {},
   "outputs": [
    {
     "data": {
      "text/plain": [
       "420"
      ]
     },
     "execution_count": 4,
     "metadata": {},
     "output_type": "execute_result"
    }
   ],
   "source": [
    "len(events)"
   ]
  },
  {
   "cell_type": "code",
   "execution_count": 30,
   "metadata": {},
   "outputs": [
    {
     "data": {
      "text/plain": [
       "[]"
      ]
     },
     "execution_count": 30,
     "metadata": {},
     "output_type": "execute_result"
    }
   ],
   "source": [
    "events = load_events_io(2020, meses[now.month], dia_inicial, 12, 1, 1)\n",
    "events"
   ]
  },
  {
   "cell_type": "code",
   "execution_count": null,
   "metadata": {},
   "outputs": [],
   "source": []
  },
  {
   "cell_type": "code",
   "execution_count": null,
   "metadata": {},
   "outputs": [],
   "source": []
  },
  {
   "cell_type": "code",
   "execution_count": 39,
   "metadata": {},
   "outputs": [
    {
     "name": "stdout",
     "output_type": "stream",
     "text": [
      "INFO:apscheduler.scheduler:Adding job tentatively -- it will be properly scheduled when the scheduler starts\n",
      "Press Ctrl+C to exit\n",
      "INFO:apscheduler.scheduler:Added job \"load_events_job\" to job store \"default\"\n",
      "INFO:apscheduler.scheduler:Scheduler started\n",
      "DEBUG:apscheduler.scheduler:Looking for jobs to run\n",
      "DEBUG:apscheduler.scheduler:Next wakeup is due at 2020-07-12 23:53:56.067766+00:00 (in 9.999281 seconds)\n",
      "DEBUG:apscheduler.scheduler:Looking for jobs to run\n",
      "INFO:apscheduler.executors.default:Running job \"load_events_job (trigger: interval[0:00:10], next run at: 2020-07-12 23:53:56 UTC)\" (scheduled at 2020-07-12 23:53:56.067766+00:00)\n",
      "INFO:apscheduler:('2020', '07', 12, 23)\n",
      "DEBUG:apscheduler.scheduler:Next wakeup is due at 2020-07-12 23:54:06.067766+00:00 (in 9.999584 seconds)\n",
      "INFO:apscheduler:Longitud de eventos 341, dia inicial 12 mes 7, epoch 2020-07-12 23:53:56.068711\n",
      "INFO:apscheduler.executors.default:Job \"load_events_job (trigger: interval[0:00:10], next run at: 2020-07-12 23:54:06 UTC)\" executed successfully\n",
      "DEBUG:apscheduler.scheduler:Looking for jobs to run\n",
      "INFO:apscheduler.executors.default:Running job \"load_events_job (trigger: interval[0:00:10], next run at: 2020-07-12 23:54:06 UTC)\" (scheduled at 2020-07-12 23:54:06.067766+00:00)\n",
      "DEBUG:apscheduler.scheduler:Next wakeup is due at 2020-07-12 23:54:16.067766+00:00 (in 9.998678 seconds)\n",
      "INFO:apscheduler:('2020', '07', 12, 23)\n",
      "INFO:apscheduler:Longitud de eventos 341, dia inicial 12 mes 7, epoch 2020-07-12 23:54:06.069833\n",
      "INFO:apscheduler.executors.default:Job \"load_events_job (trigger: interval[0:00:10], next run at: 2020-07-12 23:54:16 UTC)\" executed successfully\n",
      "^C\n"
     ]
    }
   ],
   "source": [
    "!python run.py"
   ]
  },
  {
   "cell_type": "code",
   "execution_count": null,
   "metadata": {},
   "outputs": [],
   "source": []
  },
  {
   "cell_type": "code",
   "execution_count": null,
   "metadata": {},
   "outputs": [],
   "source": []
  }
 ],
 "metadata": {
  "kernelspec": {
   "display_name": "conda_python3",
   "language": "python",
   "name": "conda_python3"
  },
  "language_info": {
   "codemirror_mode": {
    "name": "ipython",
    "version": 3
   },
   "file_extension": ".py",
   "mimetype": "text/x-python",
   "name": "python",
   "nbconvert_exporter": "python",
   "pygments_lexer": "ipython3",
   "version": "3.6.10"
  }
 },
 "nbformat": 4,
 "nbformat_minor": 4
}
